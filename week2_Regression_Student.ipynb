{
  "cells": [
    {
      "cell_type": "markdown",
      "metadata": {
        "id": "view-in-github",
        "colab_type": "text"
      },
      "source": [
        "<a href=\"https://colab.research.google.com/github/lelehuhuu/final/blob/main/week2_Regression_Student.ipynb\" target=\"_parent\"><img src=\"https://colab.research.google.com/assets/colab-badge.svg\" alt=\"Open In Colab\"/></a>"
      ]
    },
    {
      "cell_type": "code",
      "execution_count": 23,
      "id": "c9bebbb6",
      "metadata": {
        "colab": {
          "base_uri": "https://localhost:8080/"
        },
        "id": "c9bebbb6",
        "outputId": "f9a87e4f-650d-4881-d97d-52089fa3bce5"
      },
      "outputs": [
        {
          "output_type": "stream",
          "name": "stdout",
          "text": [
            "AI & ML (2025-Fall) / Week2_Regression — 20244597 이윤서\n"
          ]
        }
      ],
      "source": [
        "#@title **Colab Forms of Student Information**\n",
        "course_title = \"AI & ML (2025-Fall)\" #@param {type:\"string\"}\n",
        "assignment_title = \"Week2_Regression\" #@param {type:\"string\"}\n",
        "student_id = \"20244597\" #@param {type:\"string\"}\n",
        "student_name = \"이윤서\" #@param {type:\"string\"}\n",
        "print(f\"{course_title} / {assignment_title} — {student_id} {student_name}\")\n"
      ]
    },
    {
      "cell_type": "code",
      "execution_count": 20,
      "id": "ac30c414",
      "metadata": {
        "colab": {
          "base_uri": "https://localhost:8080/"
        },
        "id": "ac30c414",
        "outputId": "b6b37418-ce59-4fe5-8ac1-1ad343954634"
      },
      "outputs": [
        {
          "output_type": "stream",
          "name": "stdout",
          "text": [
            "PyTorch: 2.8.0+cu126\n"
          ]
        }
      ],
      "source": [
        "#@title **라이브러리 설치**\n",
        "!pip -q install --upgrade pip\n",
        "!pip -q install numpy viser\n",
        "try:\n",
        "    import torch, torchvision\n",
        "    print(\"PyTorch:\", torch.__version__)\n",
        "except Exception as e:\n",
        "    print(\"PyTorch not preinstalled:\", e)\n"
      ]
    },
    {
      "cell_type": "markdown",
      "source": [
        "# **Web Visualization Viser (Tell Me Your URL!)**"
      ],
      "metadata": {
        "id": "FQrmlBPPKAto"
      },
      "id": "FQrmlBPPKAto"
    },
    {
      "cell_type": "code",
      "execution_count": 24,
      "id": "28f86f53",
      "metadata": {
        "colab": {
          "base_uri": "https://localhost:8080/",
          "height": 1000
        },
        "id": "28f86f53",
        "outputId": "b4ff6ec0-c7eb-4155-89ab-d28bc90eaaf3"
      },
      "outputs": [
        {
          "output_type": "display_data",
          "data": {
            "text/plain": [
              "\u001b[1m(\u001b[0m\u001b[1mviser\u001b[0m\u001b[1m)\u001b[0m Disconnected from share URL\n"
            ],
            "text/html": [
              "<pre style=\"white-space:pre;overflow-x:auto;line-height:normal;font-family:Menlo,'DejaVu Sans Mono',consolas,'Courier New',monospace\"><span style=\"font-weight: bold\">(viser)</span> Disconnected from share URL\n",
              "</pre>\n"
            ]
          },
          "metadata": {}
        },
        {
          "output_type": "stream",
          "name": "stderr",
          "text": [
            "ERROR:websockets.server:opening handshake failed\n",
            "Traceback (most recent call last):\n",
            "  File \"/usr/local/lib/python3.12/dist-packages/websockets/http11.py\", line 138, in parse\n",
            "    request_line = yield from parse_line(read_line)\n",
            "                   ^^^^^^^^^^^^^^^^^^^^^^^^^^^^^^^^\n",
            "  File \"/usr/local/lib/python3.12/dist-packages/websockets/http11.py\", line 309, in parse_line\n",
            "    line = yield from read_line(MAX_LINE_LENGTH)\n",
            "           ^^^^^^^^^^^^^^^^^^^^^^^^^^^^^^^^^^^^^\n",
            "  File \"/usr/local/lib/python3.12/dist-packages/websockets/streams.py\", line 46, in read_line\n",
            "    raise EOFError(f\"stream ends after {p} bytes, before end of line\")\n",
            "EOFError: stream ends after 0 bytes, before end of line\n",
            "\n",
            "The above exception was the direct cause of the following exception:\n",
            "\n",
            "Traceback (most recent call last):\n",
            "  File \"/usr/local/lib/python3.12/dist-packages/websockets/server.py\", line 545, in parse\n",
            "    request = yield from Request.parse(\n",
            "              ^^^^^^^^^^^^^^^^^^^^^^^^^\n",
            "  File \"/usr/local/lib/python3.12/dist-packages/websockets/http11.py\", line 140, in parse\n",
            "    raise EOFError(\"connection closed while reading HTTP request line\") from exc\n",
            "EOFError: connection closed while reading HTTP request line\n",
            "\n",
            "The above exception was the direct cause of the following exception:\n",
            "\n",
            "Traceback (most recent call last):\n",
            "  File \"/usr/local/lib/python3.12/dist-packages/websockets/asyncio/server.py\", line 356, in conn_handler\n",
            "    await connection.handshake(\n",
            "  File \"/usr/local/lib/python3.12/dist-packages/websockets/asyncio/server.py\", line 207, in handshake\n",
            "    raise self.protocol.handshake_exc\n",
            "websockets.exceptions.InvalidMessage: did not receive a valid HTTP request\n",
            "ERROR:websockets.server:opening handshake failed\n",
            "Traceback (most recent call last):\n",
            "  File \"/usr/local/lib/python3.12/dist-packages/websockets/http11.py\", line 138, in parse\n",
            "    request_line = yield from parse_line(read_line)\n",
            "                   ^^^^^^^^^^^^^^^^^^^^^^^^^^^^^^^^\n",
            "  File \"/usr/local/lib/python3.12/dist-packages/websockets/http11.py\", line 309, in parse_line\n",
            "    line = yield from read_line(MAX_LINE_LENGTH)\n",
            "           ^^^^^^^^^^^^^^^^^^^^^^^^^^^^^^^^^^^^^\n",
            "  File \"/usr/local/lib/python3.12/dist-packages/websockets/streams.py\", line 46, in read_line\n",
            "    raise EOFError(f\"stream ends after {p} bytes, before end of line\")\n",
            "EOFError: stream ends after 0 bytes, before end of line\n",
            "\n",
            "The above exception was the direct cause of the following exception:\n",
            "\n",
            "Traceback (most recent call last):\n",
            "  File \"/usr/local/lib/python3.12/dist-packages/websockets/server.py\", line 545, in parse\n",
            "    request = yield from Request.parse(\n",
            "              ^^^^^^^^^^^^^^^^^^^^^^^^^\n",
            "  File \"/usr/local/lib/python3.12/dist-packages/websockets/http11.py\", line 140, in parse\n",
            "    raise EOFError(\"connection closed while reading HTTP request line\") from exc\n",
            "EOFError: connection closed while reading HTTP request line\n",
            "\n",
            "The above exception was the direct cause of the following exception:\n",
            "\n",
            "Traceback (most recent call last):\n",
            "  File \"/usr/local/lib/python3.12/dist-packages/websockets/asyncio/server.py\", line 356, in conn_handler\n",
            "    await connection.handshake(\n",
            "  File \"/usr/local/lib/python3.12/dist-packages/websockets/asyncio/server.py\", line 207, in handshake\n",
            "    raise self.protocol.handshake_exc\n",
            "websockets.exceptions.InvalidMessage: did not receive a valid HTTP request\n",
            "ERROR:websockets.server:opening handshake failed\n",
            "Traceback (most recent call last):\n",
            "  File \"/usr/local/lib/python3.12/dist-packages/websockets/http11.py\", line 138, in parse\n",
            "    request_line = yield from parse_line(read_line)\n",
            "                   ^^^^^^^^^^^^^^^^^^^^^^^^^^^^^^^^\n",
            "  File \"/usr/local/lib/python3.12/dist-packages/websockets/http11.py\", line 309, in parse_line\n",
            "    line = yield from read_line(MAX_LINE_LENGTH)\n",
            "           ^^^^^^^^^^^^^^^^^^^^^^^^^^^^^^^^^^^^^\n",
            "  File \"/usr/local/lib/python3.12/dist-packages/websockets/streams.py\", line 46, in read_line\n",
            "    raise EOFError(f\"stream ends after {p} bytes, before end of line\")\n",
            "EOFError: stream ends after 0 bytes, before end of line\n",
            "\n",
            "The above exception was the direct cause of the following exception:\n",
            "\n",
            "Traceback (most recent call last):\n",
            "  File \"/usr/local/lib/python3.12/dist-packages/websockets/server.py\", line 545, in parse\n",
            "    request = yield from Request.parse(\n",
            "              ^^^^^^^^^^^^^^^^^^^^^^^^^\n",
            "  File \"/usr/local/lib/python3.12/dist-packages/websockets/http11.py\", line 140, in parse\n",
            "    raise EOFError(\"connection closed while reading HTTP request line\") from exc\n",
            "EOFError: connection closed while reading HTTP request line\n",
            "\n",
            "The above exception was the direct cause of the following exception:\n",
            "\n",
            "Traceback (most recent call last):\n",
            "  File \"/usr/local/lib/python3.12/dist-packages/websockets/asyncio/server.py\", line 356, in conn_handler\n",
            "    await connection.handshake(\n",
            "  File \"/usr/local/lib/python3.12/dist-packages/websockets/asyncio/server.py\", line 207, in handshake\n",
            "    raise self.protocol.handshake_exc\n",
            "websockets.exceptions.InvalidMessage: did not receive a valid HTTP request\n",
            "ERROR:websockets.server:opening handshake failed\n",
            "Traceback (most recent call last):\n",
            "  File \"/usr/local/lib/python3.12/dist-packages/websockets/http11.py\", line 138, in parse\n",
            "    request_line = yield from parse_line(read_line)\n",
            "                   ^^^^^^^^^^^^^^^^^^^^^^^^^^^^^^^^\n",
            "  File \"/usr/local/lib/python3.12/dist-packages/websockets/http11.py\", line 309, in parse_line\n",
            "    line = yield from read_line(MAX_LINE_LENGTH)\n",
            "           ^^^^^^^^^^^^^^^^^^^^^^^^^^^^^^^^^^^^^\n",
            "  File \"/usr/local/lib/python3.12/dist-packages/websockets/streams.py\", line 46, in read_line\n",
            "    raise EOFError(f\"stream ends after {p} bytes, before end of line\")\n",
            "EOFError: stream ends after 0 bytes, before end of line\n",
            "\n",
            "The above exception was the direct cause of the following exception:\n",
            "\n",
            "Traceback (most recent call last):\n",
            "  File \"/usr/local/lib/python3.12/dist-packages/websockets/server.py\", line 545, in parse\n",
            "    request = yield from Request.parse(\n",
            "              ^^^^^^^^^^^^^^^^^^^^^^^^^\n",
            "  File \"/usr/local/lib/python3.12/dist-packages/websockets/http11.py\", line 140, in parse\n",
            "    raise EOFError(\"connection closed while reading HTTP request line\") from exc\n",
            "EOFError: connection closed while reading HTTP request line\n",
            "\n",
            "The above exception was the direct cause of the following exception:\n",
            "\n",
            "Traceback (most recent call last):\n",
            "  File \"/usr/local/lib/python3.12/dist-packages/websockets/asyncio/server.py\", line 356, in conn_handler\n",
            "    await connection.handshake(\n",
            "  File \"/usr/local/lib/python3.12/dist-packages/websockets/asyncio/server.py\", line 207, in handshake\n",
            "    raise self.protocol.handshake_exc\n",
            "websockets.exceptions.InvalidMessage: did not receive a valid HTTP request\n",
            "ERROR:websockets.server:opening handshake failed\n",
            "Traceback (most recent call last):\n",
            "  File \"/usr/local/lib/python3.12/dist-packages/websockets/http11.py\", line 138, in parse\n",
            "    request_line = yield from parse_line(read_line)\n",
            "                   ^^^^^^^^^^^^^^^^^^^^^^^^^^^^^^^^\n",
            "  File \"/usr/local/lib/python3.12/dist-packages/websockets/http11.py\", line 309, in parse_line\n",
            "    line = yield from read_line(MAX_LINE_LENGTH)\n",
            "           ^^^^^^^^^^^^^^^^^^^^^^^^^^^^^^^^^^^^^\n",
            "  File \"/usr/local/lib/python3.12/dist-packages/websockets/streams.py\", line 46, in read_line\n",
            "    raise EOFError(f\"stream ends after {p} bytes, before end of line\")\n",
            "EOFError: stream ends after 0 bytes, before end of line\n",
            "\n",
            "The above exception was the direct cause of the following exception:\n",
            "\n",
            "Traceback (most recent call last):\n",
            "  File \"/usr/local/lib/python3.12/dist-packages/websockets/server.py\", line 545, in parse\n",
            "    request = yield from Request.parse(\n",
            "              ^^^^^^^^^^^^^^^^^^^^^^^^^\n",
            "  File \"/usr/local/lib/python3.12/dist-packages/websockets/http11.py\", line 140, in parse\n",
            "    raise EOFError(\"connection closed while reading HTTP request line\") from exc\n",
            "EOFError: connection closed while reading HTTP request line\n",
            "\n",
            "The above exception was the direct cause of the following exception:\n",
            "\n",
            "Traceback (most recent call last):\n",
            "  File \"/usr/local/lib/python3.12/dist-packages/websockets/asyncio/server.py\", line 356, in conn_handler\n",
            "    await connection.handshake(\n",
            "  File \"/usr/local/lib/python3.12/dist-packages/websockets/asyncio/server.py\", line 207, in handshake\n",
            "    raise self.protocol.handshake_exc\n",
            "websockets.exceptions.InvalidMessage: did not receive a valid HTTP request\n",
            "ERROR:websockets.server:opening handshake failed\n",
            "Traceback (most recent call last):\n",
            "  File \"/usr/local/lib/python3.12/dist-packages/websockets/http11.py\", line 138, in parse\n",
            "    request_line = yield from parse_line(read_line)\n",
            "                   ^^^^^^^^^^^^^^^^^^^^^^^^^^^^^^^^\n",
            "  File \"/usr/local/lib/python3.12/dist-packages/websockets/http11.py\", line 309, in parse_line\n",
            "    line = yield from read_line(MAX_LINE_LENGTH)\n",
            "           ^^^^^^^^^^^^^^^^^^^^^^^^^^^^^^^^^^^^^\n",
            "  File \"/usr/local/lib/python3.12/dist-packages/websockets/streams.py\", line 46, in read_line\n",
            "    raise EOFError(f\"stream ends after {p} bytes, before end of line\")\n",
            "EOFError: stream ends after 0 bytes, before end of line\n",
            "\n",
            "The above exception was the direct cause of the following exception:\n",
            "\n",
            "Traceback (most recent call last):\n",
            "  File \"/usr/local/lib/python3.12/dist-packages/websockets/server.py\", line 545, in parse\n",
            "    request = yield from Request.parse(\n",
            "              ^^^^^^^^^^^^^^^^^^^^^^^^^\n",
            "  File \"/usr/local/lib/python3.12/dist-packages/websockets/http11.py\", line 140, in parse\n",
            "    raise EOFError(\"connection closed while reading HTTP request line\") from exc\n",
            "EOFError: connection closed while reading HTTP request line\n",
            "\n",
            "The above exception was the direct cause of the following exception:\n",
            "\n",
            "Traceback (most recent call last):\n",
            "  File \"/usr/local/lib/python3.12/dist-packages/websockets/asyncio/server.py\", line 356, in conn_handler\n",
            "    await connection.handshake(\n",
            "  File \"/usr/local/lib/python3.12/dist-packages/websockets/asyncio/server.py\", line 207, in handshake\n",
            "    raise self.protocol.handshake_exc\n",
            "websockets.exceptions.InvalidMessage: did not receive a valid HTTP request\n",
            "ERROR:websockets.server:opening handshake failed\n",
            "Traceback (most recent call last):\n",
            "  File \"/usr/local/lib/python3.12/dist-packages/websockets/http11.py\", line 138, in parse\n",
            "    request_line = yield from parse_line(read_line)\n",
            "                   ^^^^^^^^^^^^^^^^^^^^^^^^^^^^^^^^\n",
            "  File \"/usr/local/lib/python3.12/dist-packages/websockets/http11.py\", line 309, in parse_line\n",
            "    line = yield from read_line(MAX_LINE_LENGTH)\n",
            "           ^^^^^^^^^^^^^^^^^^^^^^^^^^^^^^^^^^^^^\n",
            "  File \"/usr/local/lib/python3.12/dist-packages/websockets/streams.py\", line 46, in read_line\n",
            "    raise EOFError(f\"stream ends after {p} bytes, before end of line\")\n",
            "EOFError: stream ends after 0 bytes, before end of line\n",
            "\n",
            "The above exception was the direct cause of the following exception:\n",
            "\n",
            "Traceback (most recent call last):\n",
            "  File \"/usr/local/lib/python3.12/dist-packages/websockets/server.py\", line 545, in parse\n",
            "    request = yield from Request.parse(\n",
            "              ^^^^^^^^^^^^^^^^^^^^^^^^^\n",
            "  File \"/usr/local/lib/python3.12/dist-packages/websockets/http11.py\", line 140, in parse\n",
            "    raise EOFError(\"connection closed while reading HTTP request line\") from exc\n",
            "EOFError: connection closed while reading HTTP request line\n",
            "\n",
            "The above exception was the direct cause of the following exception:\n",
            "\n",
            "Traceback (most recent call last):\n",
            "  File \"/usr/local/lib/python3.12/dist-packages/websockets/asyncio/server.py\", line 356, in conn_handler\n",
            "    await connection.handshake(\n",
            "  File \"/usr/local/lib/python3.12/dist-packages/websockets/asyncio/server.py\", line 207, in handshake\n",
            "    raise self.protocol.handshake_exc\n",
            "websockets.exceptions.InvalidMessage: did not receive a valid HTTP request\n",
            "ERROR:websockets.server:opening handshake failed\n",
            "Traceback (most recent call last):\n",
            "  File \"/usr/local/lib/python3.12/dist-packages/websockets/http11.py\", line 138, in parse\n",
            "    request_line = yield from parse_line(read_line)\n",
            "                   ^^^^^^^^^^^^^^^^^^^^^^^^^^^^^^^^\n",
            "  File \"/usr/local/lib/python3.12/dist-packages/websockets/http11.py\", line 309, in parse_line\n",
            "    line = yield from read_line(MAX_LINE_LENGTH)\n",
            "           ^^^^^^^^^^^^^^^^^^^^^^^^^^^^^^^^^^^^^\n",
            "  File \"/usr/local/lib/python3.12/dist-packages/websockets/streams.py\", line 46, in read_line\n",
            "    raise EOFError(f\"stream ends after {p} bytes, before end of line\")\n",
            "EOFError: stream ends after 0 bytes, before end of line\n",
            "\n",
            "The above exception was the direct cause of the following exception:\n",
            "\n",
            "Traceback (most recent call last):\n",
            "  File \"/usr/local/lib/python3.12/dist-packages/websockets/server.py\", line 545, in parse\n",
            "    request = yield from Request.parse(\n",
            "              ^^^^^^^^^^^^^^^^^^^^^^^^^\n",
            "  File \"/usr/local/lib/python3.12/dist-packages/websockets/http11.py\", line 140, in parse\n",
            "    raise EOFError(\"connection closed while reading HTTP request line\") from exc\n",
            "EOFError: connection closed while reading HTTP request line\n",
            "\n",
            "The above exception was the direct cause of the following exception:\n",
            "\n",
            "Traceback (most recent call last):\n",
            "  File \"/usr/local/lib/python3.12/dist-packages/websockets/asyncio/server.py\", line 356, in conn_handler\n",
            "    await connection.handshake(\n",
            "  File \"/usr/local/lib/python3.12/dist-packages/websockets/asyncio/server.py\", line 207, in handshake\n",
            "    raise self.protocol.handshake_exc\n",
            "websockets.exceptions.InvalidMessage: did not receive a valid HTTP request\n",
            "ERROR:websockets.server:opening handshake failed\n",
            "Traceback (most recent call last):\n",
            "  File \"/usr/local/lib/python3.12/dist-packages/websockets/http11.py\", line 138, in parse\n",
            "    request_line = yield from parse_line(read_line)\n",
            "                   ^^^^^^^^^^^^^^^^^^^^^^^^^^^^^^^^\n",
            "  File \"/usr/local/lib/python3.12/dist-packages/websockets/http11.py\", line 309, in parse_line\n",
            "    line = yield from read_line(MAX_LINE_LENGTH)\n",
            "           ^^^^^^^^^^^^^^^^^^^^^^^^^^^^^^^^^^^^^\n",
            "  File \"/usr/local/lib/python3.12/dist-packages/websockets/streams.py\", line 46, in read_line\n",
            "    raise EOFError(f\"stream ends after {p} bytes, before end of line\")\n",
            "EOFError: stream ends after 0 bytes, before end of line\n",
            "\n",
            "The above exception was the direct cause of the following exception:\n",
            "\n",
            "Traceback (most recent call last):\n",
            "  File \"/usr/local/lib/python3.12/dist-packages/websockets/server.py\", line 545, in parse\n",
            "    request = yield from Request.parse(\n",
            "              ^^^^^^^^^^^^^^^^^^^^^^^^^\n",
            "  File \"/usr/local/lib/python3.12/dist-packages/websockets/http11.py\", line 140, in parse\n",
            "    raise EOFError(\"connection closed while reading HTTP request line\") from exc\n",
            "EOFError: connection closed while reading HTTP request line\n",
            "\n",
            "The above exception was the direct cause of the following exception:\n",
            "\n",
            "Traceback (most recent call last):\n",
            "  File \"/usr/local/lib/python3.12/dist-packages/websockets/asyncio/server.py\", line 356, in conn_handler\n",
            "    await connection.handshake(\n",
            "  File \"/usr/local/lib/python3.12/dist-packages/websockets/asyncio/server.py\", line 207, in handshake\n",
            "    raise self.protocol.handshake_exc\n",
            "websockets.exceptions.InvalidMessage: did not receive a valid HTTP request\n",
            "ERROR:websockets.server:opening handshake failed\n",
            "Traceback (most recent call last):\n",
            "  File \"/usr/local/lib/python3.12/dist-packages/websockets/http11.py\", line 138, in parse\n",
            "    request_line = yield from parse_line(read_line)\n",
            "                   ^^^^^^^^^^^^^^^^^^^^^^^^^^^^^^^^\n",
            "  File \"/usr/local/lib/python3.12/dist-packages/websockets/http11.py\", line 309, in parse_line\n",
            "    line = yield from read_line(MAX_LINE_LENGTH)\n",
            "           ^^^^^^^^^^^^^^^^^^^^^^^^^^^^^^^^^^^^^\n",
            "  File \"/usr/local/lib/python3.12/dist-packages/websockets/streams.py\", line 46, in read_line\n",
            "    raise EOFError(f\"stream ends after {p} bytes, before end of line\")\n",
            "EOFError: stream ends after 0 bytes, before end of line\n",
            "\n",
            "The above exception was the direct cause of the following exception:\n",
            "\n",
            "Traceback (most recent call last):\n",
            "  File \"/usr/local/lib/python3.12/dist-packages/websockets/server.py\", line 545, in parse\n",
            "    request = yield from Request.parse(\n",
            "              ^^^^^^^^^^^^^^^^^^^^^^^^^\n",
            "  File \"/usr/local/lib/python3.12/dist-packages/websockets/http11.py\", line 140, in parse\n",
            "    raise EOFError(\"connection closed while reading HTTP request line\") from exc\n",
            "EOFError: connection closed while reading HTTP request line\n",
            "\n",
            "The above exception was the direct cause of the following exception:\n",
            "\n",
            "Traceback (most recent call last):\n",
            "  File \"/usr/local/lib/python3.12/dist-packages/websockets/asyncio/server.py\", line 356, in conn_handler\n",
            "    await connection.handshake(\n",
            "  File \"/usr/local/lib/python3.12/dist-packages/websockets/asyncio/server.py\", line 207, in handshake\n",
            "    raise self.protocol.handshake_exc\n",
            "websockets.exceptions.InvalidMessage: did not receive a valid HTTP request\n",
            "ERROR:websockets.server:opening handshake failed\n",
            "Traceback (most recent call last):\n",
            "  File \"/usr/local/lib/python3.12/dist-packages/websockets/http11.py\", line 138, in parse\n",
            "    request_line = yield from parse_line(read_line)\n",
            "                   ^^^^^^^^^^^^^^^^^^^^^^^^^^^^^^^^\n",
            "  File \"/usr/local/lib/python3.12/dist-packages/websockets/http11.py\", line 309, in parse_line\n",
            "    line = yield from read_line(MAX_LINE_LENGTH)\n",
            "           ^^^^^^^^^^^^^^^^^^^^^^^^^^^^^^^^^^^^^\n",
            "  File \"/usr/local/lib/python3.12/dist-packages/websockets/streams.py\", line 46, in read_line\n",
            "    raise EOFError(f\"stream ends after {p} bytes, before end of line\")\n",
            "EOFError: stream ends after 0 bytes, before end of line\n",
            "\n",
            "The above exception was the direct cause of the following exception:\n",
            "\n",
            "Traceback (most recent call last):\n",
            "  File \"/usr/local/lib/python3.12/dist-packages/websockets/server.py\", line 545, in parse\n",
            "    request = yield from Request.parse(\n",
            "              ^^^^^^^^^^^^^^^^^^^^^^^^^\n",
            "  File \"/usr/local/lib/python3.12/dist-packages/websockets/http11.py\", line 140, in parse\n",
            "    raise EOFError(\"connection closed while reading HTTP request line\") from exc\n",
            "EOFError: connection closed while reading HTTP request line\n",
            "\n",
            "The above exception was the direct cause of the following exception:\n",
            "\n",
            "Traceback (most recent call last):\n",
            "  File \"/usr/local/lib/python3.12/dist-packages/websockets/asyncio/server.py\", line 356, in conn_handler\n",
            "    await connection.handshake(\n",
            "  File \"/usr/local/lib/python3.12/dist-packages/websockets/asyncio/server.py\", line 207, in handshake\n",
            "    raise self.protocol.handshake_exc\n",
            "websockets.exceptions.InvalidMessage: did not receive a valid HTTP request\n",
            "ERROR:websockets.server:opening handshake failed\n",
            "Traceback (most recent call last):\n",
            "  File \"/usr/local/lib/python3.12/dist-packages/websockets/http11.py\", line 138, in parse\n",
            "    request_line = yield from parse_line(read_line)\n",
            "                   ^^^^^^^^^^^^^^^^^^^^^^^^^^^^^^^^\n",
            "  File \"/usr/local/lib/python3.12/dist-packages/websockets/http11.py\", line 309, in parse_line\n",
            "    line = yield from read_line(MAX_LINE_LENGTH)\n",
            "           ^^^^^^^^^^^^^^^^^^^^^^^^^^^^^^^^^^^^^\n",
            "  File \"/usr/local/lib/python3.12/dist-packages/websockets/streams.py\", line 46, in read_line\n",
            "    raise EOFError(f\"stream ends after {p} bytes, before end of line\")\n",
            "EOFError: stream ends after 0 bytes, before end of line\n",
            "\n",
            "The above exception was the direct cause of the following exception:\n",
            "\n",
            "Traceback (most recent call last):\n",
            "  File \"/usr/local/lib/python3.12/dist-packages/websockets/server.py\", line 545, in parse\n",
            "    request = yield from Request.parse(\n",
            "              ^^^^^^^^^^^^^^^^^^^^^^^^^\n",
            "  File \"/usr/local/lib/python3.12/dist-packages/websockets/http11.py\", line 140, in parse\n",
            "    raise EOFError(\"connection closed while reading HTTP request line\") from exc\n",
            "EOFError: connection closed while reading HTTP request line\n",
            "\n",
            "The above exception was the direct cause of the following exception:\n",
            "\n",
            "Traceback (most recent call last):\n",
            "  File \"/usr/local/lib/python3.12/dist-packages/websockets/asyncio/server.py\", line 356, in conn_handler\n",
            "    await connection.handshake(\n",
            "  File \"/usr/local/lib/python3.12/dist-packages/websockets/asyncio/server.py\", line 207, in handshake\n",
            "    raise self.protocol.handshake_exc\n",
            "websockets.exceptions.InvalidMessage: did not receive a valid HTTP request\n",
            "ERROR:websockets.server:opening handshake failed\n",
            "Traceback (most recent call last):\n",
            "  File \"/usr/local/lib/python3.12/dist-packages/websockets/http11.py\", line 138, in parse\n",
            "    request_line = yield from parse_line(read_line)\n",
            "                   ^^^^^^^^^^^^^^^^^^^^^^^^^^^^^^^^\n",
            "  File \"/usr/local/lib/python3.12/dist-packages/websockets/http11.py\", line 309, in parse_line\n",
            "    line = yield from read_line(MAX_LINE_LENGTH)\n",
            "           ^^^^^^^^^^^^^^^^^^^^^^^^^^^^^^^^^^^^^\n",
            "  File \"/usr/local/lib/python3.12/dist-packages/websockets/streams.py\", line 46, in read_line\n",
            "    raise EOFError(f\"stream ends after {p} bytes, before end of line\")\n",
            "EOFError: stream ends after 0 bytes, before end of line\n",
            "\n",
            "The above exception was the direct cause of the following exception:\n",
            "\n",
            "Traceback (most recent call last):\n",
            "  File \"/usr/local/lib/python3.12/dist-packages/websockets/server.py\", line 545, in parse\n",
            "    request = yield from Request.parse(\n",
            "              ^^^^^^^^^^^^^^^^^^^^^^^^^\n",
            "  File \"/usr/local/lib/python3.12/dist-packages/websockets/http11.py\", line 140, in parse\n",
            "    raise EOFError(\"connection closed while reading HTTP request line\") from exc\n",
            "EOFError: connection closed while reading HTTP request line\n",
            "\n",
            "The above exception was the direct cause of the following exception:\n",
            "\n",
            "Traceback (most recent call last):\n",
            "  File \"/usr/local/lib/python3.12/dist-packages/websockets/asyncio/server.py\", line 356, in conn_handler\n",
            "    await connection.handshake(\n",
            "  File \"/usr/local/lib/python3.12/dist-packages/websockets/asyncio/server.py\", line 207, in handshake\n",
            "    raise self.protocol.handshake_exc\n",
            "websockets.exceptions.InvalidMessage: did not receive a valid HTTP request\n",
            "ERROR:websockets.server:opening handshake failed\n",
            "Traceback (most recent call last):\n",
            "  File \"/usr/local/lib/python3.12/dist-packages/websockets/http11.py\", line 138, in parse\n",
            "    request_line = yield from parse_line(read_line)\n",
            "                   ^^^^^^^^^^^^^^^^^^^^^^^^^^^^^^^^\n",
            "  File \"/usr/local/lib/python3.12/dist-packages/websockets/http11.py\", line 309, in parse_line\n",
            "    line = yield from read_line(MAX_LINE_LENGTH)\n",
            "           ^^^^^^^^^^^^^^^^^^^^^^^^^^^^^^^^^^^^^\n",
            "  File \"/usr/local/lib/python3.12/dist-packages/websockets/streams.py\", line 46, in read_line\n",
            "    raise EOFError(f\"stream ends after {p} bytes, before end of line\")\n",
            "EOFError: stream ends after 0 bytes, before end of line\n",
            "\n",
            "The above exception was the direct cause of the following exception:\n",
            "\n",
            "Traceback (most recent call last):\n",
            "  File \"/usr/local/lib/python3.12/dist-packages/websockets/server.py\", line 545, in parse\n",
            "    request = yield from Request.parse(\n",
            "              ^^^^^^^^^^^^^^^^^^^^^^^^^\n",
            "  File \"/usr/local/lib/python3.12/dist-packages/websockets/http11.py\", line 140, in parse\n",
            "    raise EOFError(\"connection closed while reading HTTP request line\") from exc\n",
            "EOFError: connection closed while reading HTTP request line\n",
            "\n",
            "The above exception was the direct cause of the following exception:\n",
            "\n",
            "Traceback (most recent call last):\n",
            "  File \"/usr/local/lib/python3.12/dist-packages/websockets/asyncio/server.py\", line 356, in conn_handler\n",
            "    await connection.handshake(\n",
            "  File \"/usr/local/lib/python3.12/dist-packages/websockets/asyncio/server.py\", line 207, in handshake\n",
            "    raise self.protocol.handshake_exc\n",
            "websockets.exceptions.InvalidMessage: did not receive a valid HTTP request\n",
            "ERROR:websockets.server:opening handshake failed\n",
            "Traceback (most recent call last):\n",
            "  File \"/usr/local/lib/python3.12/dist-packages/websockets/http11.py\", line 138, in parse\n",
            "    request_line = yield from parse_line(read_line)\n",
            "                   ^^^^^^^^^^^^^^^^^^^^^^^^^^^^^^^^\n",
            "  File \"/usr/local/lib/python3.12/dist-packages/websockets/http11.py\", line 309, in parse_line\n",
            "    line = yield from read_line(MAX_LINE_LENGTH)\n",
            "           ^^^^^^^^^^^^^^^^^^^^^^^^^^^^^^^^^^^^^\n",
            "  File \"/usr/local/lib/python3.12/dist-packages/websockets/streams.py\", line 46, in read_line\n",
            "    raise EOFError(f\"stream ends after {p} bytes, before end of line\")\n",
            "EOFError: stream ends after 0 bytes, before end of line\n",
            "\n",
            "The above exception was the direct cause of the following exception:\n",
            "\n",
            "Traceback (most recent call last):\n",
            "  File \"/usr/local/lib/python3.12/dist-packages/websockets/server.py\", line 545, in parse\n",
            "    request = yield from Request.parse(\n",
            "              ^^^^^^^^^^^^^^^^^^^^^^^^^\n",
            "  File \"/usr/local/lib/python3.12/dist-packages/websockets/http11.py\", line 140, in parse\n",
            "    raise EOFError(\"connection closed while reading HTTP request line\") from exc\n",
            "EOFError: connection closed while reading HTTP request line\n",
            "\n",
            "The above exception was the direct cause of the following exception:\n",
            "\n",
            "Traceback (most recent call last):\n",
            "  File \"/usr/local/lib/python3.12/dist-packages/websockets/asyncio/server.py\", line 356, in conn_handler\n",
            "    await connection.handshake(\n",
            "  File \"/usr/local/lib/python3.12/dist-packages/websockets/asyncio/server.py\", line 207, in handshake\n",
            "    raise self.protocol.handshake_exc\n",
            "websockets.exceptions.InvalidMessage: did not receive a valid HTTP request\n"
          ]
        },
        {
          "output_type": "display_data",
          "data": {
            "text/plain": [
              "╭──────────────── \u001b[1mviser\u001b[0m ────────────────╮\n",
              "│             ╷                         │\n",
              "│   HTTP      │ http://localhost:8082   │\n",
              "│   Websocket │ ws://localhost:8082     │\n",
              "│             ╵                         │\n",
              "╰───────────────────────────────────────╯\n"
            ],
            "text/html": [
              "<pre style=\"white-space:pre;overflow-x:auto;line-height:normal;font-family:Menlo,'DejaVu Sans Mono',consolas,'Courier New',monospace\">╭──────────────── <span style=\"font-weight: bold\">viser</span> ────────────────╮\n",
              "│             ╷                         │\n",
              "│   HTTP      │ http://localhost:8082   │\n",
              "│   Websocket │ ws://localhost:8082     │\n",
              "│             ╵                         │\n",
              "╰───────────────────────────────────────╯\n",
              "</pre>\n"
            ]
          },
          "metadata": {}
        },
        {
          "output_type": "stream",
          "name": "stderr",
          "text": [
            "ERROR:websockets.server:opening handshake failed\n",
            "Traceback (most recent call last):\n",
            "  File \"/usr/local/lib/python3.12/dist-packages/websockets/http11.py\", line 138, in parse\n",
            "    request_line = yield from parse_line(read_line)\n",
            "                   ^^^^^^^^^^^^^^^^^^^^^^^^^^^^^^^^\n",
            "  File \"/usr/local/lib/python3.12/dist-packages/websockets/http11.py\", line 309, in parse_line\n",
            "    line = yield from read_line(MAX_LINE_LENGTH)\n",
            "           ^^^^^^^^^^^^^^^^^^^^^^^^^^^^^^^^^^^^^\n",
            "  File \"/usr/local/lib/python3.12/dist-packages/websockets/streams.py\", line 46, in read_line\n",
            "    raise EOFError(f\"stream ends after {p} bytes, before end of line\")\n",
            "EOFError: stream ends after 0 bytes, before end of line\n",
            "\n",
            "The above exception was the direct cause of the following exception:\n",
            "\n",
            "Traceback (most recent call last):\n",
            "  File \"/usr/local/lib/python3.12/dist-packages/websockets/server.py\", line 545, in parse\n",
            "    request = yield from Request.parse(\n",
            "              ^^^^^^^^^^^^^^^^^^^^^^^^^\n",
            "  File \"/usr/local/lib/python3.12/dist-packages/websockets/http11.py\", line 140, in parse\n",
            "    raise EOFError(\"connection closed while reading HTTP request line\") from exc\n",
            "EOFError: connection closed while reading HTTP request line\n",
            "\n",
            "The above exception was the direct cause of the following exception:\n",
            "\n",
            "Traceback (most recent call last):\n",
            "  File \"/usr/local/lib/python3.12/dist-packages/websockets/asyncio/server.py\", line 356, in conn_handler\n",
            "    await connection.handshake(\n",
            "  File \"/usr/local/lib/python3.12/dist-packages/websockets/asyncio/server.py\", line 207, in handshake\n",
            "    raise self.protocol.handshake_exc\n",
            "websockets.exceptions.InvalidMessage: did not receive a valid HTTP request\n"
          ]
        },
        {
          "output_type": "display_data",
          "data": {
            "text/plain": [
              "\u001b[1m(\u001b[0m\u001b[1mviser\u001b[0m\u001b[1m)\u001b[0m Share URL requested!\n"
            ],
            "text/html": [
              "<pre style=\"white-space:pre;overflow-x:auto;line-height:normal;font-family:Menlo,'DejaVu Sans Mono',consolas,'Courier New',monospace\"><span style=\"font-weight: bold\">(viser)</span> Share URL requested!\n",
              "</pre>\n"
            ]
          },
          "metadata": {}
        },
        {
          "output_type": "display_data",
          "data": {
            "text/plain": [
              "\u001b[1m(\u001b[0m\u001b[1mviser\u001b[0m\u001b[1m)\u001b[0m Server stopped\n"
            ],
            "text/html": [
              "<pre style=\"white-space:pre;overflow-x:auto;line-height:normal;font-family:Menlo,'DejaVu Sans Mono',consolas,'Courier New',monospace\"><span style=\"font-weight: bold\">(viser)</span> Server stopped\n",
              "</pre>\n"
            ]
          },
          "metadata": {}
        },
        {
          "output_type": "display_data",
          "data": {
            "text/plain": [
              "\u001b[1m(\u001b[0m\u001b[1mviser\u001b[0m\u001b[1m)\u001b[0m Generated share URL \u001b[1m(\u001b[0mexpires in \u001b[1;36m24\u001b[0m hours, max \u001b[1;36m16\u001b[0m clients\u001b[1m)\u001b[0m: \u001b[4;94mhttps://risky-mirrored.share.viser.studio\u001b[0m\n"
            ],
            "text/html": [
              "<pre style=\"white-space:pre;overflow-x:auto;line-height:normal;font-family:Menlo,'DejaVu Sans Mono',consolas,'Courier New',monospace\"><span style=\"font-weight: bold\">(viser)</span> Generated share URL <span style=\"font-weight: bold\">(</span>expires in <span style=\"color: #008080; text-decoration-color: #008080; font-weight: bold\">24</span> hours, max <span style=\"color: #008080; text-decoration-color: #008080; font-weight: bold\">16</span> clients<span style=\"font-weight: bold\">)</span>: <span style=\"color: #0000ff; text-decoration-color: #0000ff; text-decoration: underline\">https://risky-mirrored.share.viser.studio</span>\n",
              "</pre>\n"
            ]
          },
          "metadata": {}
        },
        {
          "output_type": "stream",
          "name": "stdout",
          "text": [
            "Open: https://risky-mirrored.share.viser.studio\n"
          ]
        }
      ],
      "source": [
        "import viser\n",
        "try: server.stop()\n",
        "except: pass\n",
        "\n",
        "server = viser.ViserServer(label=f\"Week1 Demo {student_id} {student_name}\")\n",
        "share = server.request_share_url()\n",
        "print(\"Open:\", share or f\"http://localhost:{server.get_port()}\")\n",
        "\n",
        "# 기본 장면\n",
        "server.scene.add_grid(\"/grid\", width=10, height=10, position=(0,0,0))\n",
        "\n",
        "# GUI Control Box에 텍스트 추가\n",
        "text_handle = server.gui.add_text(\n",
        "    label=\"Q1\",                # 텍스트 입력창의 라벨\n",
        "    initial_value=\"answer\",   # 처음에 보이는 문자열\n",
        "    multiline=False,                 # 여러 줄 입력 허용 여부\n",
        "    disabled=False,                   # 수정 가능 여부 (True면 읽기 전용)\n",
        "    visible=True,                    # 표시 여부\n",
        "    hint=\"Question 1\", # 마우스 hover 시 보일 힌트\n",
        "    order=0                          # Control 박스 내 정렬 순서\n",
        ")\n",
        "text_handle = server.gui.add_text(\n",
        "    label=\"Q2\",                # 텍스트 입력창의 라벨\n",
        "    initial_value=\"answer\",   # 처음에 보이는 문자열\n",
        "    multiline=False,                 # 여러 줄 입력 허용 여부\n",
        "    disabled=False,                   # 수정 가능 여부 (True면 읽기 전용)\n",
        "    visible=True,                    # 표시 여부\n",
        "    hint=\"Question 2\", # 마우스 hover 시 보일 힌트\n",
        "    order=0                          # Control 박스 내 정렬 순서\n",
        ")\n",
        "text_handle = server.gui.add_text(\n",
        "    label=\"Q3\",                # 텍스트 입력창의 라벨\n",
        "    initial_value=\"answer\",   # 처음에 보이는 문자열\n",
        "    multiline=False,                 # 여러 줄 입력 허용 여부\n",
        "    disabled=False,                   # 수정 가능 여부 (True면 읽기 전용)\n",
        "    visible=True,                    # 표시 여부\n",
        "    hint=\"Question 3\", # 마우스 hover 시 보일 힌트\n",
        "    order=0                          # Control 박스 내 정렬 순서\n",
        ")\n",
        "text_handle = server.gui.add_text(\n",
        "    label=\"Q4\",                # 텍스트 입력창의 라벨\n",
        "    initial_value=\"answer\",   # 처음에 보이는 문자열\n",
        "    multiline=False,                 # 여러 줄 입력 허용 여부\n",
        "    disabled=False,                   # 수정 가능 여부 (True면 읽기 전용)\n",
        "    visible=True,                    # 표시 여부\n",
        "    hint=\"Question 4\", # 마우스 hover 시 보일 힌트\n",
        "    order=0                          # Control 박스 내 정렬 순서\n",
        ")\n"
      ]
    },
    {
      "cell_type": "markdown",
      "source": [
        "\n",
        "# **Linear Regression with Tensor**"
      ],
      "metadata": {
        "id": "C-iGm0xNKax3"
      },
      "id": "C-iGm0xNKax3"
    },
    {
      "cell_type": "code",
      "execution_count": null,
      "id": "bdf64541",
      "metadata": {
        "colab": {
          "base_uri": "https://localhost:8080/"
        },
        "id": "bdf64541",
        "outputId": "2bb1843f-1ffe-412a-f6a4-b67cda9aaf07",
        "collapsed": true
      },
      "outputs": [
        {
          "output_type": "execute_result",
          "data": {
            "text/plain": [
              "<torch._C.Generator at 0x7fd06459caf0>"
            ]
          },
          "metadata": {},
          "execution_count": 6
        }
      ],
      "source": [
        "#@title **Random Seed**\n",
        "import torch\n",
        "import numpy as np\n",
        "\n",
        "# Random Seed #\n",
        "random_seed = 42 #@param {type:\"integer\"}\n",
        "np.random.seed(random_seed)   # 원하는 랜덤 시드값\n",
        "torch.manual_seed(random_seed)\n"
      ]
    },
    {
      "cell_type": "code",
      "source": [
        "#@title **Ground Truth Data Generation**\n",
        "a_1 = 1.0#@param {type:\"number\"}\n",
        "a_2 = 0.2#@param {type:\"number\"}\n",
        "c = 0.2#@param {type:\"number\"}\n",
        "\n",
        "# generate ground-truth z\n",
        "num_points = 600 #@param {type:\"integer\"}\n",
        "x1 = np.random.uniform(0.3, 1.2, num_points)\n",
        "x2 = np.random.uniform(0.3, 1.2, num_points)\n",
        "\n",
        "#--------------- TODO : generate gt_z\n",
        "gt_z = a_1*x1 + a_2*x2 + c\n",
        "points = np.stack([x1, x2, gt_z], axis=1)\n",
        "#numpy to torch tensor\n",
        "x1 = torch.from_numpy(x1)\n",
        "x2 = torch.from_numpy(x2)\n",
        "gt_z = torch.from_numpy(gt_z)\n",
        "\n",
        "# Data Visulization (Input:points (N,3)) #\n",
        "colors = np.random.randint(0, 255, (num_points, 3), dtype=np.uint8)\n",
        "server.scene.add_point_cloud(\n",
        "    name=\"/Training Data\",\n",
        "    points=points,\n",
        "    colors=colors,\n",
        "    point_size=0.01,\n",
        ")"
      ],
      "metadata": {
        "colab": {
          "base_uri": "https://localhost:8080/"
        },
        "collapsed": true,
        "id": "mnDQShjqrInK",
        "outputId": "cb6317ca-520a-48c4-d6a5-2bd67e0e72c1"
      },
      "id": "mnDQShjqrInK",
      "execution_count": 47,
      "outputs": [
        {
          "output_type": "execute_result",
          "data": {
            "text/plain": [
              "PointCloudHandle(points=array([[1.084 , 0.5454, 1.394 ],\n",
              "       [0.9575, 1.181 , 1.394 ],\n",
              "       [0.586 , 0.9067, 0.9673],\n",
              "       ...,\n",
              "       [0.574 , 0.5757, 0.8896],\n",
              "       [0.3865, 0.924 , 0.7715],\n",
              "       [0.523 , 0.3403, 0.791 ]], dtype=float16), colors=array([[186, 111,   1],\n",
              "       [124, 198, 121],\n",
              "       [146, 124, 184],\n",
              "       ...,\n",
              "       [139, 212,  77],\n",
              "       [161, 156, 236],\n",
              "       [146, 230,  84]], dtype=uint8), point_size=0.01, point_shape='square', precision='float16')"
            ]
          },
          "metadata": {},
          "execution_count": 47
        }
      ]
    },
    {
      "cell_type": "code",
      "source": [
        "#@title **Visualize the Plane**\n",
        "# 평면을 x1∈[0.3,1.2], x2∈[0.3,1.2] 영역으로 잘라서 표시\n",
        "x1_min, x1_max = 0.3, 1.2\n",
        "x2_min, x2_max = 0.3, 1.2\n",
        "# 꼭짓점 4개\n",
        "verts = np.array([\n",
        "    [x1_min, x2_min, a_1*x1_min + a_2*x2_min + c],\n",
        "    [x1_max, x2_min, a_1*x1_max + a_2*x2_min + c],\n",
        "    [x1_max, x2_max, a_1*x1_max + a_2*x2_max + c],\n",
        "    [x1_min, x2_max, a_1*x1_min + a_2*x2_max + c],\n",
        "])\n",
        "# 두 삼각형으로 사각형 생성\n",
        "faces = np.array([[0,1,2],[0,2,3]], dtype=np.int32)\n",
        "server.scene.add_mesh_simple(\n",
        "    name=\"/Ground Truth Plane\",\n",
        "    vertices=verts,\n",
        "    faces=faces,\n",
        "    color=(10,255,10),\n",
        "    opacity=0.5,\n",
        "    side=\"double\",\n",
        ")"
      ],
      "metadata": {
        "colab": {
          "base_uri": "https://localhost:8080/"
        },
        "id": "odUIPG6RsouL",
        "outputId": "fbec7692-5af9-4e23-f309-1518e99483ab",
        "cellView": "form"
      },
      "id": "odUIPG6RsouL",
      "execution_count": 48,
      "outputs": [
        {
          "output_type": "execute_result",
          "data": {
            "text/plain": [
              "MeshHandle(vertices=array([[0.3 , 0.3 , 0.56],\n",
              "       [1.2 , 0.3 , 1.46],\n",
              "       [1.2 , 1.2 , 1.64],\n",
              "       [0.3 , 1.2 , 0.74]], dtype=float32), faces=array([[0, 1, 2],\n",
              "       [0, 2, 3]], dtype=uint32), color=(10, 255, 10), wireframe=False, opacity=0.5, flat_shading=False, side='double', material='standard', cast_shadow=True, receive_shadow=True)"
            ]
          },
          "metadata": {},
          "execution_count": 48
        }
      ]
    },
    {
      "cell_type": "code",
      "source": [
        "#@title **Visualize the Plane of Hypothesis**\n",
        "\n",
        "# tensor to numpy array\n",
        "w_1_draw = torch.randn(1).clone().numpy()[0]\n",
        "w_2_draw = torch.randn(1).clone().numpy()[0]\n",
        "b_draw = torch.randn(1).clone().numpy()[0]\n",
        "\n",
        "# 평면을 x1∈[0.3,1.2], x2∈[0.3,1.2] 영역으로 잘라서 표시\n",
        "x1_min, x1_max = 0.3, 1.2\n",
        "x2_min, x2_max = 0.3, 1.2\n",
        "verts = np.array([\n",
        "    [x1_min, x2_min, w_1_draw*x1_min + w_2_draw*x2_min + b_draw],\n",
        "    [x1_max, x2_min, w_1_draw*x1_max + w_2_draw*x2_min + b_draw],\n",
        "    [x1_max, x2_max, w_1_draw*x1_max + w_2_draw*x2_max + b_draw],\n",
        "    [x1_min, x2_max, w_1_draw*x1_min + w_2_draw*x2_max + b_draw],\n",
        "])\n",
        "# 두 삼각형으로 사각형 생성\n",
        "faces = np.array([[0,1,2],[0,2,3]], dtype=np.int32)\n",
        "server.scene.add_mesh_simple(\n",
        "    name=\"/Initial Hypothesis Plane\",\n",
        "    vertices=verts,\n",
        "    faces=faces,\n",
        "    color=(10,10,255),\n",
        "    opacity=0.5,\n",
        "    side=\"double\",\n",
        ")"
      ],
      "metadata": {
        "colab": {
          "base_uri": "https://localhost:8080/"
        },
        "id": "jiGI0TgVvWfj",
        "outputId": "bc322265-7b65-4581-83bf-6a7e6df94f50",
        "cellView": "form"
      },
      "id": "jiGI0TgVvWfj",
      "execution_count": 49,
      "outputs": [
        {
          "output_type": "execute_result",
          "data": {
            "text/plain": [
              "MeshHandle(vertices=array([[ 0.3      ,  0.3      , -1.9319057],\n",
              "       [ 1.2      ,  0.3      , -1.58905  ],\n",
              "       [ 1.2      ,  1.2      , -2.427894 ],\n",
              "       [ 0.3      ,  1.2      , -2.77075  ]], dtype=float32), faces=array([[0, 1, 2],\n",
              "       [0, 2, 3]], dtype=uint32), color=(10, 10, 255), wireframe=False, opacity=0.5, flat_shading=False, side='double', material='standard', cast_shadow=True, receive_shadow=True)"
            ]
          },
          "metadata": {},
          "execution_count": 49
        }
      ]
    },
    {
      "cell_type": "code",
      "source": [
        "#@title **Implementation of Linear Regression**\n",
        "# initial 파라미터를 auto gradient descent optimization 이 가능하도록 설정\n",
        "w_1 = torch.randn(1, requires_grad=True)\n",
        "w_2 = torch.randn(1, requires_grad=True)\n",
        "b = torch.randn(1, requires_grad=True)\n",
        "\n",
        "epochs = 3000 #@param {type:\"integer\"} 몆번 돌거\n",
        "lr = 0.1 # learning rate\n",
        "\n",
        "for epoch in range(epochs):\n",
        "    #--------------- TODO : cost=loss function\n",
        "    z_hat = w_1 * x1 + w_2 * x2 + b # 초록색값\n",
        "    loss = torch.mean((z_hat - gt_z)**2) #cost\n",
        "\n",
        "    #loss.backward automatically setup gradient\n",
        "    loss.backward()\n",
        "    with torch.no_grad():\n",
        "      #--------------- TODO : gradient descent optimization\n",
        "      w_1 -= lr*w_1.grad #\"TODO using T.grad\"\n",
        "      w_2 -= lr*w_2.grad #\"TODO using T.grad\"\n",
        "      b -= lr*w_2.grad #\"TODO using T.grad\"\n",
        "      # ready for the next epoch, 하늘색 트레이닝\n",
        "      w_1.grad.zero_()\n",
        "      w_2.grad.zero_()\n",
        "      b.grad.zero_()\n",
        "\n",
        "    if epoch % 500 == 0:\n",
        "        print(f\"epoch {epoch}, loss={loss.item():.6e}, w_1={w_1.item():.4f}, w_2={w_2.item():.4f}, c={b.item():.4f}\")\n",
        "\n",
        "# == Visiualization : You dont need to check ===\n",
        "print(\"\\nGround Truth:\", a_1, a_2, c)\n",
        "print(\"Learned      :\", w_1.item(), w_2.item(), b.item())\n",
        "\n",
        "w_1_draw = w_1.clone().detach().numpy()[0]\n",
        "w_2_draw = w_2.clone().detach().numpy()[0]\n",
        "b_draw = b.clone().detach().numpy()[0]\n",
        "x1_min, x1_max = 0.3, 1.2\n",
        "x2_min, x2_max = 0.3, 1.2\n",
        "verts = np.array([\n",
        "    [x1_min, x2_min, w_1_draw*x1_min + w_2_draw*x2_min + b_draw],\n",
        "    [x1_max, x2_min, w_1_draw*x1_max + w_2_draw*x2_min + b_draw],\n",
        "    [x1_max, x2_max, w_1_draw*x1_max + w_2_draw*x2_max + b_draw],\n",
        "    [x1_min, x2_max, w_1_draw*x1_min + w_2_draw*x2_max + b_draw],\n",
        "])\n",
        "\n",
        "faces = np.array([[0,1,2],[0,2,3]], dtype=np.int32)\n",
        "server.scene.add_mesh_simple(\n",
        "    name=\"/Trained Hypothesis=Model Plane\",\n",
        "    vertices=verts,\n",
        "    faces=faces,\n",
        "    color=(10,255,255),\n",
        "    opacity=0.5,\n",
        "    side=\"double\",\n",
        ")\n"
      ],
      "metadata": {
        "colab": {
          "base_uri": "https://localhost:8080/"
        },
        "id": "ysHsT3KaDq0e",
        "outputId": "8433b389-0742-4dd3-c84b-79ceaf701cb8",
        "collapsed": true
      },
      "id": "ysHsT3KaDq0e",
      "execution_count": 50,
      "outputs": [
        {
          "output_type": "stream",
          "name": "stdout",
          "text": [
            "epoch 0, loss=1.554051e+00, w_1=1.4709, w_2=-0.6367, c=-0.2583\n",
            "epoch 500, loss=3.027498e-03, w_1=0.8562, w_2=0.0530, c=0.4315\n",
            "epoch 1000, loss=3.035527e-03, w_1=0.8555, w_2=0.0533, c=0.4318\n",
            "epoch 1500, loss=3.035527e-03, w_1=0.8555, w_2=0.0533, c=0.4318\n",
            "epoch 2000, loss=3.035527e-03, w_1=0.8555, w_2=0.0533, c=0.4318\n",
            "epoch 2500, loss=3.035527e-03, w_1=0.8555, w_2=0.0533, c=0.4318\n",
            "\n",
            "Ground Truth: 1.0 0.2 0.2\n",
            "Learned      : 0.8555137515068054 0.053287457674741745 0.43175414204597473\n"
          ]
        },
        {
          "output_type": "execute_result",
          "data": {
            "text/plain": [
              "MeshHandle(vertices=array([[0.3      , 0.3      , 0.7043945],\n",
              "       [1.2      , 0.3      , 1.4743569],\n",
              "       [1.2      , 1.2      , 1.5223156],\n",
              "       [0.3      , 1.2      , 0.7523532]], dtype=float32), faces=array([[0, 1, 2],\n",
              "       [0, 2, 3]], dtype=uint32), color=(10, 255, 255), wireframe=False, opacity=0.5, flat_shading=False, side='double', material='standard', cast_shadow=True, receive_shadow=True)"
            ]
          },
          "metadata": {},
          "execution_count": 50
        }
      ]
    },
    {
      "cell_type": "markdown",
      "source": [
        "\n",
        "# **Linear Regression in Real-Life (Noisy Data)**"
      ],
      "metadata": {
        "id": "JcwpeTbU4csa"
      },
      "id": "JcwpeTbU4csa"
    },
    {
      "cell_type": "code",
      "source": [
        "#@title **Noisy Data Generation**\n",
        "# Ground truth 파라미터\n",
        "a_1 = 1.0#@param {type:\"number\"}\n",
        "a_2 = 0.35#@param {type:\"number\"}\n",
        "c = 0.2#@param {type:\"number\"}\n",
        "\n",
        "# Noisy Data\n",
        "num_noisy_points = 600 #@param {type:\"integer\"}\n",
        "x1 = torch.rand(num_noisy_points) * (1.2 - 0.3) + 0.3\n",
        "x2 = torch.rand(num_noisy_points) * (1.2 - 0.3) + 0.3\n",
        "z = a_1 * x1 + a_2 * x2 + c   # (50,)\n",
        "\n",
        "noise_level = 0.05  # 표준편차\n",
        "x1_noisy = x1 + torch.randn_like(x1) * noise_level\n",
        "x2_noisy = x2 + torch.randn_like(x2) * noise_level\n",
        "z_noisy  = z  + torch.randn_like(z)  * noise_level\n",
        "\n",
        "noisy_points = torch.stack([x1_noisy, x2_noisy, z_noisy], dim=1)  # (50, 3)\n",
        "\n",
        "# == Visiualization : You dont need to check ===\n",
        "colors = np.random.randint(0, 255, (num_noisy_points, 3), dtype=np.uint8)\n",
        "server.scene.add_point_cloud(\n",
        "    name=\"/Training Data with Noise\",\n",
        "    points=noisy_points.numpy(),\n",
        "    colors=colors,\n",
        "    point_size=0.01,\n",
        ")"
      ],
      "metadata": {
        "colab": {
          "base_uri": "https://localhost:8080/"
        },
        "id": "B-48BdX64k1H",
        "outputId": "a92c94d4-b29d-4ca0-b3c1-8bc138da5293",
        "cellView": "form"
      },
      "id": "B-48BdX64k1H",
      "execution_count": 51,
      "outputs": [
        {
          "output_type": "execute_result",
          "data": {
            "text/plain": [
              "PointCloudHandle(points=array([[0.9185, 0.8   , 1.382 ],\n",
              "       [1.111 , 0.3948, 1.453 ],\n",
              "       [0.6704, 0.8906, 1.084 ],\n",
              "       ...,\n",
              "       [1.119 , 0.658 , 1.567 ],\n",
              "       [1.038 , 0.7036, 1.522 ],\n",
              "       [0.5293, 0.748 , 0.878 ]], dtype=float16), colors=array([[ 83, 166, 241],\n",
              "       [  7,  19, 129],\n",
              "       [136, 175,  30],\n",
              "       ...,\n",
              "       [184, 119,  79],\n",
              "       [ 79, 197, 232],\n",
              "       [192,  55, 222]], dtype=uint8), point_size=0.01, point_shape='square', precision='float16')"
            ]
          },
          "metadata": {},
          "execution_count": 51
        }
      ]
    },
    {
      "cell_type": "code",
      "source": [
        "#@title **Implementation of Linear Regression**\n",
        "epochs = 100 #@param {type:\"integer\"}\n",
        "lr = 0.1 # learning rate\n",
        "# initial 파라미터를 auto gradient descent optimization 이 가능하도록 설정\n",
        "w_1 = torch.randn(1, requires_grad=True)\n",
        "w_2 = torch.randn(1, requires_grad=True)\n",
        "b = torch.randn(1, requires_grad=True)\n",
        "\n",
        "for epoch in range(epochs):\n",
        "    #--------------- TODO : cost=loss function\n",
        "    z_hat = w_1 * x1 + w_2 * x2 + b\n",
        "    loss = torch.mean((z_hat - gt_z)**2) #\"TODO\"\n",
        "\n",
        "    #loss.backward automatically setup gradient\n",
        "    loss.backward()\n",
        "    with torch.no_grad():\n",
        "      #--------------- TODO : gradient descent optimization\n",
        "      w_1 -= \"TODO using T.grad\"\n",
        "      w_2 -= \"TODO using T.grad\"\n",
        "      b -= \"TODO using T.grad\"\n",
        "      # ready for the next epoch\n",
        "      w_1.grad.zero_()\n",
        "      w_2.grad.zero_()\n",
        "      b.grad.zero_()\n",
        "\n",
        "    if epoch % 100 == 0:\n",
        "        print(f\"epoch {epoch}, loss={loss.item():.6e}, w_1={w_1.item():.4f}, w_2={w_2.item():.4f}, c={b.item():.4f}\")\n",
        "\n",
        "# == Visiualization : You dont need to check ===\n",
        "print(\"\\nGround Truth:\", a_1, a_2, c)\n",
        "print(\"Learned      :\", w_1.item(), w_2.item(), b.item())\n",
        "\n",
        "w_1_draw = w_1.clone().detach().numpy()[0]\n",
        "w_2_draw = w_2.clone().detach().numpy()[0]\n",
        "b_draw = b.clone().detach().numpy()[0]\n",
        "x1_min, x1_max = 0.3, 1.2\n",
        "x2_min, x2_max = 0.3, 1.2\n",
        "verts = np.array([\n",
        "    [x1_min, x2_min, w_1_draw*x1_min + w_2_draw*x2_min + b_draw],\n",
        "    [x1_max, x2_min, w_1_draw*x1_max + w_2_draw*x2_min + b_draw],\n",
        "    [x1_max, x2_max, w_1_draw*x1_max + w_2_draw*x2_max + b_draw],\n",
        "    [x1_min, x2_max, w_1_draw*x1_min + w_2_draw*x2_max + b_draw],\n",
        "])\n",
        "\n",
        "faces = np.array([[0,1,2],[0,2,3]], dtype=np.int32)\n",
        "server.scene.add_mesh_simple(\n",
        "    name=\"/Trained Model Plane with Noisy\",\n",
        "    vertices=verts,\n",
        "    faces=faces,\n",
        "    color=(10,255,255),\n",
        "    opacity=0.5,\n",
        "    side=\"double\",\n",
        ")\n"
      ],
      "metadata": {
        "colab": {
          "base_uri": "https://localhost:8080/",
          "height": 221
        },
        "id": "WhC3ZaSUDMyt",
        "outputId": "3f670fe2-d4c8-4ab1-ce72-c9ea5d488908"
      },
      "id": "WhC3ZaSUDMyt",
      "execution_count": 54,
      "outputs": [
        {
          "output_type": "error",
          "ename": "TypeError",
          "evalue": "unsupported operand type(s) for -=: 'Tensor' and 'str'",
          "traceback": [
            "\u001b[0;31m---------------------------------------------------------------------------\u001b[0m",
            "\u001b[0;31mTypeError\u001b[0m                                 Traceback (most recent call last)",
            "\u001b[0;32m/tmp/ipython-input-1737723431.py\u001b[0m in \u001b[0;36m<cell line: 0>\u001b[0;34m()\u001b[0m\n\u001b[1;32m     16\u001b[0m     \u001b[0;32mwith\u001b[0m \u001b[0mtorch\u001b[0m\u001b[0;34m.\u001b[0m\u001b[0mno_grad\u001b[0m\u001b[0;34m(\u001b[0m\u001b[0;34m)\u001b[0m\u001b[0;34m:\u001b[0m\u001b[0;34m\u001b[0m\u001b[0;34m\u001b[0m\u001b[0m\n\u001b[1;32m     17\u001b[0m       \u001b[0;31m#--------------- TODO : gradient descent optimization\u001b[0m\u001b[0;34m\u001b[0m\u001b[0;34m\u001b[0m\u001b[0m\n\u001b[0;32m---> 18\u001b[0;31m       \u001b[0mw_1\u001b[0m \u001b[0;34m-=\u001b[0m \u001b[0;34m\"TODO using T.grad\"\u001b[0m\u001b[0;34m\u001b[0m\u001b[0;34m\u001b[0m\u001b[0m\n\u001b[0m\u001b[1;32m     19\u001b[0m       \u001b[0mw_2\u001b[0m \u001b[0;34m-=\u001b[0m \u001b[0;34m\"TODO using T.grad\"\u001b[0m\u001b[0;34m\u001b[0m\u001b[0;34m\u001b[0m\u001b[0m\n\u001b[1;32m     20\u001b[0m       \u001b[0mb\u001b[0m \u001b[0;34m-=\u001b[0m \u001b[0;34m\"TODO using T.grad\"\u001b[0m\u001b[0;34m\u001b[0m\u001b[0;34m\u001b[0m\u001b[0m\n",
            "\u001b[0;31mTypeError\u001b[0m: unsupported operand type(s) for -=: 'Tensor' and 'str'"
          ]
        }
      ]
    },
    {
      "cell_type": "markdown",
      "source": [
        "#**Close & Remove Viser**"
      ],
      "metadata": {
        "id": "29XT3ACyKiEZ"
      },
      "id": "29XT3ACyKiEZ"
    },
    {
      "cell_type": "code",
      "source": [
        "import gc\n",
        "try:\n",
        "    server.stop()\n",
        "except:\n",
        "    pass\n",
        "del server\n",
        "gc.collect()\n"
      ],
      "metadata": {
        "colab": {
          "base_uri": "https://localhost:8080/"
        },
        "id": "IwdH0-ck7Pl7",
        "outputId": "364a8697-d6b5-452b-fdde-00aab195289a"
      },
      "id": "IwdH0-ck7Pl7",
      "execution_count": null,
      "outputs": [
        {
          "output_type": "display_data",
          "data": {
            "text/plain": [
              "\u001b[1m(\u001b[0m\u001b[1mviser\u001b[0m\u001b[1m)\u001b[0m Connection closed \u001b[1m(\u001b[0m\u001b[1;36m0\u001b[0m, \u001b[1;36m0\u001b[0m total\u001b[1m)\u001b[0m\n"
            ],
            "text/html": [
              "<pre style=\"white-space:pre;overflow-x:auto;line-height:normal;font-family:Menlo,'DejaVu Sans Mono',consolas,'Courier New',monospace\"><span style=\"font-weight: bold\">(viser)</span> Connection closed <span style=\"font-weight: bold\">(</span><span style=\"color: #008080; text-decoration-color: #008080; font-weight: bold\">0</span>, <span style=\"color: #008080; text-decoration-color: #008080; font-weight: bold\">0</span> total<span style=\"font-weight: bold\">)</span>\n",
              "</pre>\n"
            ]
          },
          "metadata": {}
        },
        {
          "output_type": "display_data",
          "data": {
            "text/plain": [
              "\u001b[1m(\u001b[0m\u001b[1mviser\u001b[0m\u001b[1m)\u001b[0m Server stopped\n"
            ],
            "text/html": [
              "<pre style=\"white-space:pre;overflow-x:auto;line-height:normal;font-family:Menlo,'DejaVu Sans Mono',consolas,'Courier New',monospace\"><span style=\"font-weight: bold\">(viser)</span> Server stopped\n",
              "</pre>\n"
            ]
          },
          "metadata": {}
        },
        {
          "output_type": "execute_result",
          "data": {
            "text/plain": [
              "20099"
            ]
          },
          "metadata": {},
          "execution_count": 82
        },
        {
          "output_type": "display_data",
          "data": {
            "text/plain": [
              "\u001b[1m(\u001b[0m\u001b[1mviser\u001b[0m\u001b[1m)\u001b[0m Disconnected from share URL\n"
            ],
            "text/html": [
              "<pre style=\"white-space:pre;overflow-x:auto;line-height:normal;font-family:Menlo,'DejaVu Sans Mono',consolas,'Courier New',monospace\"><span style=\"font-weight: bold\">(viser)</span> Disconnected from share URL\n",
              "</pre>\n"
            ]
          },
          "metadata": {}
        },
        {
          "output_type": "stream",
          "name": "stderr",
          "text": [
            "Exception in thread Thread-10 (call_on_disconnect):\n",
            "Traceback (most recent call last):\n",
            "  File \"/usr/lib/python3.12/threading.py\", line 1075, in _bootstrap_inner\n",
            "    self.run()\n",
            "  File \"/usr/lib/python3.12/threading.py\", line 1012, in run\n",
            "    self._target(*self._args, **self._kwargs)\n",
            "  File \"/usr/local/lib/python3.12/dist-packages/viser/_tunnel.py\", line 69, in call_on_disconnect\n",
            "    callback()\n",
            "  File \"/usr/local/lib/python3.12/dist-packages/viser/_viser.py\", line 907, in _\n"
          ]
        }
      ]
    }
  ],
  "metadata": {
    "kernelspec": {
      "display_name": "Python 3",
      "language": "python",
      "name": "python3"
    },
    "language_info": {
      "codemirror_mode": {
        "name": "ipython",
        "version": 3
      },
      "file_extension": ".py",
      "mimetype": "text/x-python",
      "name": "python",
      "nbconvert_exporter": "python",
      "pygments_lexer": "ipython3",
      "version": "3.10.12"
    },
    "colab": {
      "provenance": [],
      "collapsed_sections": [
        "29XT3ACyKiEZ"
      ],
      "toc_visible": true,
      "include_colab_link": true
    }
  },
  "nbformat": 4,
  "nbformat_minor": 5
}